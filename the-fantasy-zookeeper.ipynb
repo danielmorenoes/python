{
 "cells": [
  {
   "cell_type": "markdown",
   "metadata": {},
   "source": [
    "# 🦄 The Fantasy Zookeeper\n",
    "\n",
    "**Scenario:**\n",
    "\n",
    "Congratulations! You've been hired as a data analyst at Fantasy Zoo, the world's first zoo for mythical creatures. Your job is to analyze the data of the mythical creatures living at the zoo and provide insights to help improve their wellbeing.\n",
    "\n",
    "You've been given a **dataset** containing the following columns:\n",
    "* `creature_name`: Name of the creature\n",
    "* `creature_type`: Type of the creature (e.g., dragon, unicorn, etc.)\n",
    "* `age`: Age of the creature (in years)\n",
    "* `health_status`: Health status of the creature (Excellent, Good, Fair, Poor)\n",
    "* `magical_ability_score`: Score representing the creature's magical ability (0-100)\n",
    "\n",
    "**Exercise:**\n",
    "\n",
    "In order to organize the animals into different habitats, you've been asked to answer the fsome questions regarding this dataset:"
   ]
  },
  {
   "cell_type": "code",
   "execution_count": 25,
   "metadata": {},
   "outputs": [],
   "source": [
    "import pandas as pd\n",
    "import numpy as np\n",
    "\n",
    "# Define the number of creatures\n",
    "num_creatures = 100\n",
    "\n",
    "\n",
    "# Define the creature types\n",
    "creature_types = ['Dragon', 'Unicorn', 'Griffin', 'Phoenix', 'Mermaid', 'Centaur']\n",
    "\n",
    "# Generate random data\n",
    "data = {\n",
    "    'creature_name': ['Creature' + str(i) for i in range(num_creatures)],\n",
    "    'creature_type': np.random.choice(creature_types, num_creatures),\n",
    "    'age': np.random.randint(1, 1000, num_creatures),\n",
    "    'health_status': np.random.choice(['Excellent', 'Good', 'Fair', 'Poor'], num_creatures),\n",
    "    'magical_ability_score': np.random.randint(0, 101, num_creatures)\n",
    "}\n",
    "\n",
    "# Create a DataFrame\n",
    "df = pd.DataFrame(data)"
   ]
  },
  {
   "cell_type": "markdown",
   "metadata": {},
   "source": [
    "1. Display the first 5 rows of the dataframe."
   ]
  },
  {
   "cell_type": "code",
   "execution_count": 6,
   "metadata": {},
   "outputs": [
    {
     "data": {
      "text/html": [
       "<div>\n",
       "<style scoped>\n",
       "    .dataframe tbody tr th:only-of-type {\n",
       "        vertical-align: middle;\n",
       "    }\n",
       "\n",
       "    .dataframe tbody tr th {\n",
       "        vertical-align: top;\n",
       "    }\n",
       "\n",
       "    .dataframe thead th {\n",
       "        text-align: right;\n",
       "    }\n",
       "</style>\n",
       "<table border=\"1\" class=\"dataframe\">\n",
       "  <thead>\n",
       "    <tr style=\"text-align: right;\">\n",
       "      <th></th>\n",
       "      <th>creature_name</th>\n",
       "      <th>creature_type</th>\n",
       "      <th>age</th>\n",
       "      <th>health_status</th>\n",
       "      <th>magical_ability_score</th>\n",
       "    </tr>\n",
       "  </thead>\n",
       "  <tbody>\n",
       "    <tr>\n",
       "      <th>0</th>\n",
       "      <td>Creature0</td>\n",
       "      <td>Phoenix</td>\n",
       "      <td>858</td>\n",
       "      <td>Good</td>\n",
       "      <td>97</td>\n",
       "    </tr>\n",
       "    <tr>\n",
       "      <th>1</th>\n",
       "      <td>Creature1</td>\n",
       "      <td>Dragon</td>\n",
       "      <td>118</td>\n",
       "      <td>Good</td>\n",
       "      <td>10</td>\n",
       "    </tr>\n",
       "    <tr>\n",
       "      <th>2</th>\n",
       "      <td>Creature2</td>\n",
       "      <td>Mermaid</td>\n",
       "      <td>595</td>\n",
       "      <td>Excellent</td>\n",
       "      <td>95</td>\n",
       "    </tr>\n",
       "    <tr>\n",
       "      <th>3</th>\n",
       "      <td>Creature3</td>\n",
       "      <td>Centaur</td>\n",
       "      <td>895</td>\n",
       "      <td>Fair</td>\n",
       "      <td>74</td>\n",
       "    </tr>\n",
       "    <tr>\n",
       "      <th>4</th>\n",
       "      <td>Creature4</td>\n",
       "      <td>Mermaid</td>\n",
       "      <td>671</td>\n",
       "      <td>Excellent</td>\n",
       "      <td>94</td>\n",
       "    </tr>\n",
       "  </tbody>\n",
       "</table>\n",
       "</div>"
      ],
      "text/plain": [
       "  creature_name creature_type  age health_status  magical_ability_score\n",
       "0     Creature0       Phoenix  858          Good                     97\n",
       "1     Creature1        Dragon  118          Good                     10\n",
       "2     Creature2       Mermaid  595     Excellent                     95\n",
       "3     Creature3       Centaur  895          Fair                     74\n",
       "4     Creature4       Mermaid  671     Excellent                     94"
      ]
     },
     "execution_count": 6,
     "metadata": {},
     "output_type": "execute_result"
    }
   ],
   "source": [
    "df.head()"
   ]
  },
  {
   "cell_type": "markdown",
   "metadata": {},
   "source": [
    "2. Calculate and print the total number of creatures in the zoo."
   ]
  },
  {
   "cell_type": "code",
   "execution_count": 4,
   "metadata": {},
   "outputs": [
    {
     "data": {
      "text/plain": [
       "creature_name            100\n",
       "creature_type            100\n",
       "age                      100\n",
       "health_status            100\n",
       "magical_ability_score    100\n",
       "dtype: int64"
      ]
     },
     "execution_count": 4,
     "metadata": {},
     "output_type": "execute_result"
    }
   ],
   "source": [
    "df.count()"
   ]
  },
  {
   "cell_type": "markdown",
   "metadata": {},
   "source": [
    "2.1 calculate the number of unicorns"
   ]
  },
  {
   "cell_type": "code",
   "execution_count": 11,
   "metadata": {},
   "outputs": [
    {
     "data": {
      "text/plain": [
       "19"
      ]
     },
     "execution_count": 11,
     "metadata": {},
     "output_type": "execute_result"
    }
   ],
   "source": [
    "unicorn_mask = df[\"creature_type\"] == \"Unicorn\"\n",
    "unicorn_df = df[unicorn_mask]\n",
    "len(unicorn_df)"
   ]
  },
  {
   "cell_type": "markdown",
   "metadata": {},
   "source": [
    "2.2 calculate the number creatures by type"
   ]
  },
  {
   "cell_type": "code",
   "execution_count": 14,
   "metadata": {},
   "outputs": [
    {
     "data": {
      "text/plain": [
       "creature_type\n",
       "Mermaid    22\n",
       "Dragon     21\n",
       "Unicorn    19\n",
       "Phoenix    15\n",
       "Centaur    12\n",
       "Griffin    11\n",
       "Name: count, dtype: int64"
      ]
     },
     "execution_count": 14,
     "metadata": {},
     "output_type": "execute_result"
    }
   ],
   "source": [
    "df[\"creature_type\"].value_counts()"
   ]
  },
  {
   "cell_type": "code",
   "execution_count": 26,
   "metadata": {},
   "outputs": [
    {
     "data": {
      "text/plain": [
       "creature_type\n",
       "Centaur    505.954545\n",
       "Dragon     462.937500\n",
       "Griffin    423.111111\n",
       "Mermaid    626.200000\n",
       "Phoenix    548.625000\n",
       "Unicorn    512.777778\n",
       "Name: age, dtype: float64"
      ]
     },
     "execution_count": 26,
     "metadata": {},
     "output_type": "execute_result"
    }
   ],
   "source": [
    "df.groupby(\"creature_type\")[\"age\"].mean()"
   ]
  },
  {
   "cell_type": "markdown",
   "metadata": {},
   "source": [
    "3. Calculate and print the average age of the creatures."
   ]
  },
  {
   "cell_type": "code",
   "execution_count": 20,
   "metadata": {},
   "outputs": [
    {
     "data": {
      "text/plain": [
       "463.94"
      ]
     },
     "execution_count": 20,
     "metadata": {},
     "output_type": "execute_result"
    }
   ],
   "source": [
    "avg_age = df[\"age\"].mean()\n",
    "avg_age"
   ]
  },
  {
   "cell_type": "markdown",
   "metadata": {},
   "source": [
    "4. Find and print the name of the oldest creature."
   ]
  },
  {
   "cell_type": "code",
   "execution_count": 33,
   "metadata": {},
   "outputs": [
    {
     "data": {
      "text/plain": [
       "creature_name            Creature38\n",
       "creature_type               Mermaid\n",
       "age                             988\n",
       "health_status             Excellent\n",
       "magical_ability_score            10\n",
       "Name: 38, dtype: object"
      ]
     },
     "execution_count": 33,
     "metadata": {},
     "output_type": "execute_result"
    }
   ],
   "source": [
    "max_age = df[\"age\"].max()\n",
    "max_age_index = np.argmax(df[\"age\"])\n",
    "df.iloc[max_age_index]"
   ]
  },
  {
   "cell_type": "markdown",
   "metadata": {},
   "source": [
    "5. Identify and print the most common type of creature."
   ]
  },
  {
   "cell_type": "code",
   "execution_count": 6,
   "metadata": {},
   "outputs": [
    {
     "data": {
      "text/plain": [
       "'Most common creature type: Dragon'"
      ]
     },
     "execution_count": 6,
     "metadata": {},
     "output_type": "execute_result"
    }
   ],
   "source": [
    "df.[\"creature_type\"].value_counts"
   ]
  },
  {
   "cell_type": "markdown",
   "metadata": {},
   "source": [
    "6. Find and print the average magical ability score for each type of creature."
   ]
  },
  {
   "cell_type": "code",
   "execution_count": 35,
   "metadata": {},
   "outputs": [
    {
     "data": {
      "text/plain": [
       "creature_type\n",
       "Centaur    52.454545\n",
       "Dragon     58.062500\n",
       "Griffin    53.888889\n",
       "Mermaid    61.600000\n",
       "Phoenix    53.562500\n",
       "Unicorn    49.722222\n",
       "Name: magical_ability_score, dtype: float64"
      ]
     },
     "execution_count": 35,
     "metadata": {},
     "output_type": "execute_result"
    }
   ],
   "source": [
    "grouped_by_type_df = df.groupby(\"creature_type\")\n",
    "grouped_by_type_df[\"magical_ability_score\"].mean()"
   ]
  },
  {
   "cell_type": "markdown",
   "metadata": {},
   "source": [
    "7. Find the names of creatures who have a 'Poor' health status."
   ]
  },
  {
   "cell_type": "code",
   "execution_count": 8,
   "metadata": {},
   "outputs": [
    {
     "data": {
      "text/plain": [
       "11    Creature11\n",
       "14    Creature14\n",
       "15    Creature15\n",
       "16    Creature16\n",
       "19    Creature19\n",
       "20    Creature20\n",
       "23    Creature23\n",
       "25    Creature25\n",
       "38    Creature38\n",
       "39    Creature39\n",
       "46    Creature46\n",
       "48    Creature48\n",
       "50    Creature50\n",
       "54    Creature54\n",
       "55    Creature55\n",
       "63    Creature63\n",
       "65    Creature65\n",
       "72    Creature72\n",
       "77    Creature77\n",
       "78    Creature78\n",
       "86    Creature86\n",
       "92    Creature92\n",
       "93    Creature93\n",
       "97    Creature97\n",
       "Name: creature_name, dtype: object"
      ]
     },
     "execution_count": 8,
     "metadata": {},
     "output_type": "execute_result"
    }
   ],
   "source": []
  },
  {
   "cell_type": "markdown",
   "metadata": {},
   "source": [
    "Remember, the happiness of the mythical creatures is in your hands. Happy analyzing! 💪"
   ]
  }
 ],
 "metadata": {
  "kernelspec": {
   "display_name": "Python 3",
   "language": "python",
   "name": "python3"
  },
  "language_info": {
   "codemirror_mode": {
    "name": "ipython",
    "version": 3
   },
   "file_extension": ".py",
   "mimetype": "text/x-python",
   "name": "python",
   "nbconvert_exporter": "python",
   "pygments_lexer": "ipython3",
   "version": "3.9.17"
  },
  "orig_nbformat": 4
 },
 "nbformat": 4,
 "nbformat_minor": 2
}
