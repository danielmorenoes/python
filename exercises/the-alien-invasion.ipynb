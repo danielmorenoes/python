{
 "cells": [
  {
   "cell_type": "markdown",
   "metadata": {},
   "source": [
    "# 👾 The Alien Invasion!\n",
    "\n",
    "**Scenario:**\n",
    "\n",
    "You're a data analyst at the Earth Defence Organisation (EDO). You've just received a transmission containing **data about an alien fleet** heading towards Earth! The transmission contains vital data about each alien spaceship's **dimensions, speed, and weapon power**. Your job is to analyze this data to provide the EDO with the insights needed to prepare Earth's defenses. \n",
    "\n",
    "**Exercise:**\n",
    "\n",
    "The transmission is an matrix (an array) which contains data for each spaceship. Every line represents one spaceship, with values in the order of: **length** (in meters), **width** (in meters), **height** (in meters), **speed** (in km/s), and **weapon power** (on a scale of 1-10)."
   ]
  },
  {
   "cell_type": "code",
   "execution_count": 1,
   "metadata": {},
   "outputs": [],
   "source": [
    "import numpy as np\n",
    "\n",
    "\n",
    "fleet_data = np.array([\n",
    "    [120, 40, 25, 2.5, 10],\n",
    "    [85, 60, 30, 5.0, 5],\n",
    "    [100, 50, 35, 4.5, 7],\n",
    "    [120, 40, 25, 2.5, 9],\n",
    "    [150, 50, 30, 3.0, 10],\n",
    "], dtype=np.float32)"
   ]
  },
  {
   "cell_type": "markdown",
   "metadata": {},
   "source": [
    "**Your tasks:**\n",
    "\n",
    "1. Calculate and print the total number of spaceships."
   ]
  },
  {
   "cell_type": "code",
   "execution_count": 2,
   "metadata": {},
   "outputs": [
    {
     "name": "stdout",
     "output_type": "stream",
     "text": [
      "5\n"
     ]
    }
   ],
   "source": [
    "n_spaceships = fleet_data.shape[0]\n",
    "print (n_spaceships)"
   ]
  },
  {
   "cell_type": "markdown",
   "metadata": {},
   "source": [
    "2. Calculate and print the average spaceship size (volume). "
   ]
  },
  {
   "cell_type": "code",
   "execution_count": 3,
   "metadata": {},
   "outputs": [
    {
     "name": "stdout",
     "output_type": "stream",
     "text": [
      "Lengths: [120.  85. 100. 120. 150.]\n",
      "Width: [40. 60. 50. 40. 50.]\n",
      "Height: [25. 30. 35. 25. 30.]\n",
      "Average Volume 158600.0\n"
     ]
    }
   ],
   "source": [
    "spaceships_length = fleet_data[:,0]\n",
    "spaceships_width = fleet_data[:,1]\n",
    "spaceships_height = fleet_data[:,2]\n",
    "print (f\"Lengths: {spaceships_length}\")\n",
    "print (f\"Width: {spaceships_width}\")\n",
    "print (f\"Height: {spaceships_height}\")\n",
    "spaceships_vol = spaceships_length * spaceships_width * spaceships_height\n",
    "print (f\"Average Volume {spaceships_vol.mean()}\")"
   ]
  },
  {
   "cell_type": "markdown",
   "metadata": {},
   "source": [
    "3. Identify and print the speed of the fastest spaceship."
   ]
  },
  {
   "cell_type": "code",
   "execution_count": 23,
   "metadata": {},
   "outputs": [
    {
     "data": {
      "text/plain": [
       "'Fastest ship is number 2 of 5 at Max Speed 5.0 km/s'"
      ]
     },
     "execution_count": 23,
     "metadata": {},
     "output_type": "execute_result"
    }
   ],
   "source": [
    "speed = fleet_data[:,3]\n",
    "spaceship_fastest_vel = speed.max()\n",
    "spaceship_fastest_vel_num = np.argmax(speed)+1\n",
    "f\"Fastest ship is number {spaceship_fastest_vel_num} of {n_spaceships} at Max Speed {spaceship_fastest_vel} km/s\"\n"
   ]
  },
  {
   "cell_type": "markdown",
   "metadata": {},
   "source": [
    "4. Determine and print the number of spaceships with the maximum weapon power."
   ]
  },
  {
   "cell_type": "code",
   "execution_count": 39,
   "metadata": {},
   "outputs": [
    {
     "data": {
      "text/plain": [
       "'The number of spaceships with maximum weapon power(10.0) is 2'"
      ]
     },
     "execution_count": 39,
     "metadata": {},
     "output_type": "execute_result"
    }
   ],
   "source": [
    "spaceships_maxpower = fleet_data[:,4]\n",
    "spaceships_maxpower_mask = spaceships_maxpower == spaceships_maxpower.max()\n",
    "n_spaceships_maxpower = spaceships_maxpower_mask.sum()\n",
    "f\"The number of spaceships with maximum weapon power({spaceships_maxpower.max()}) is {n_spaceships_maxpower}\""
   ]
  },
  {
   "cell_type": "markdown",
   "metadata": {},
   "source": [
    "5. Find and print the mean speed of spaceships with the maximum weapon power."
   ]
  },
  {
   "cell_type": "code",
   "execution_count": 45,
   "metadata": {},
   "outputs": [
    {
     "data": {
      "text/plain": [
       "'The mean speed of spaceships with maximum weapon power(10.0) is 2.75'"
      ]
     },
     "execution_count": 45,
     "metadata": {},
     "output_type": "execute_result"
    }
   ],
   "source": [
    "#speed, spaceships_maxpower_mask\n",
    "mean_speed = speed[spaceships_maxpower_mask].mean()\n",
    "f\"The mean speed of spaceships with maximum weapon power({spaceships_maxpower.max()}) is {mean_speed}\""
   ]
  },
  {
   "cell_type": "markdown",
   "metadata": {},
   "source": [
    "Remember, the fate of Earth depends on your quick and accurate analysis. Good luck! 🍀"
   ]
  }
 ],
 "metadata": {
  "kernelspec": {
   "display_name": "Python 3",
   "language": "python",
   "name": "python3"
  },
  "language_info": {
   "codemirror_mode": {
    "name": "ipython",
    "version": 3
   },
   "file_extension": ".py",
   "mimetype": "text/x-python",
   "name": "python",
   "nbconvert_exporter": "python",
   "pygments_lexer": "ipython3",
   "version": "3.9.17"
  },
  "orig_nbformat": 4
 },
 "nbformat": 4,
 "nbformat_minor": 2
}
